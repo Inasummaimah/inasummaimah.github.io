{
  "nbformat": 4,
  "nbformat_minor": 0,
  "metadata": {
    "colab": {
      "provenance": [],
      "collapsed_sections": [],
      "include_colab_link": true
    },
    "kernelspec": {
      "name": "python3",
      "display_name": "Python 3"
    },
    "language_info": {
      "name": "python"
    }
  },
  "cells": [
    {
      "cell_type": "markdown",
      "metadata": {
        "id": "view-in-github",
        "colab_type": "text"
      },
      "source": [
        "<a href=\"https://colab.research.google.com/github/Inasummaimah/inasummaimah.github.io/blob/main/Topic_3%264_Inas%20Ummaimah%20Junaidi.ipynb\" target=\"_parent\"><img src=\"https://colab.research.google.com/assets/colab-badge.svg\" alt=\"Open In Colab\"/></a>"
      ]
    },
    {
      "cell_type": "markdown",
      "source": [
        "##Topic 3 - Python Structure & Data Type Assignment\n"
      ],
      "metadata": {
        "id": "f6LjKU50-tD8"
      }
    },
    {
      "cell_type": "markdown",
      "source": [
        "# Data Type Declaration"
      ],
      "metadata": {
        "id": "MPuR878HZEbx"
      }
    },
    {
      "cell_type": "markdown",
      "source": [
        "1. > Create an empty variable (Points : 5)"
      ],
      "metadata": {
        "id": "GyS5I54D-3K9"
      }
    },
    {
      "cell_type": "code",
      "source": [
        "nama=\"\"\n"
      ],
      "metadata": {
        "id": "jehesBY-_aKL"
      },
      "execution_count": null,
      "outputs": []
    },
    {
      "cell_type": "markdown",
      "source": [
        "2. > Create a variable containing your name (Points : 5)"
      ],
      "metadata": {
        "id": "6zCz3qZ8_bu2"
      }
    },
    {
      "cell_type": "code",
      "source": [
        "nama=\"Inas\""
      ],
      "metadata": {
        "id": "1wT8jnI6_f-U"
      },
      "execution_count": null,
      "outputs": []
    },
    {
      "cell_type": "markdown",
      "source": [
        "3. > Create a list of 5 items you can find in the classroom (Points : 5)"
      ],
      "metadata": {
        "id": "ApatE8m__2Ud"
      }
    },
    {
      "cell_type": "code",
      "source": [
        "classroom_list=[\"book\",\"pen\",\"pencil\",\"table\",\"chair\"]\n",
        "classroom_list"
      ],
      "metadata": {
        "id": "-Q0Ynqx1_6hF",
        "colab": {
          "base_uri": "https://localhost:8080/"
        },
        "outputId": "77c4ee0e-cd08-40e2-a272-c72468113d58"
      },
      "execution_count": null,
      "outputs": [
        {
          "output_type": "execute_result",
          "data": {
            "text/plain": [
              "['book', 'pen', 'pencil', 'table', 'chair']"
            ]
          },
          "metadata": {},
          "execution_count": 2
        }
      ]
    },
    {
      "cell_type": "markdown",
      "source": [
        "4. > Create a dictionary containing 2 keys and value (Points : 5)"
      ],
      "metadata": {
        "id": "6FwMmy_9AS5N"
      }
    },
    {
      "cell_type": "code",
      "source": [
        "Shoes={\n",
        "    \"Brand\":['gucci','prada'],\n",
        "    'Color':['Black','white']\n",
        "    }\n",
        "Shoes"
      ],
      "metadata": {
        "id": "xLc2AlhtASOm",
        "colab": {
          "base_uri": "https://localhost:8080/"
        },
        "outputId": "9779a08d-b040-44d3-d5c9-3ceded7bce1a"
      },
      "execution_count": null,
      "outputs": [
        {
          "output_type": "execute_result",
          "data": {
            "text/plain": [
              "{'Brand': ['gucci', 'prada'], 'Color': ['Black', 'white']}"
            ]
          },
          "metadata": {},
          "execution_count": 8
        }
      ]
    },
    {
      "cell_type": "markdown",
      "source": [
        "# Basic Data Operation"
      ],
      "metadata": {
        "id": "6AqPfAS7a1Oi"
      }
    },
    {
      "cell_type": "markdown",
      "source": [
        "You sold 20 pieces of electronics at the price of 12000. The customer gets a total discount of 10%.\n",
        "\n",
        "Below are those variables:\n",
        "\n",
        "1.   price=12000\n",
        "2.   quantity_sold=20\n",
        "3.   discount=10%\n",
        "\n",
        "\n",
        "Using Python code, write the code the find the total money that the customer to pay. (Points : 15)"
      ],
      "metadata": {
        "id": "-ZZF1cXlbqkJ"
      }
    },
    {
      "cell_type": "code",
      "source": [
        "20*12000*10/100"
      ],
      "metadata": {
        "id": "90T0A2HvbcCK",
        "colab": {
          "base_uri": "https://localhost:8080/"
        },
        "outputId": "db2cdac0-61e2-417d-b057-110842222283"
      },
      "execution_count": null,
      "outputs": [
        {
          "output_type": "execute_result",
          "data": {
            "text/plain": [
              "24000.0"
            ]
          },
          "metadata": {},
          "execution_count": 17
        }
      ]
    },
    {
      "cell_type": "markdown",
      "source": [
        "# List Data Operation"
      ],
      "metadata": {
        "id": "G-HHsg4la6mJ"
      }
    },
    {
      "cell_type": "markdown",
      "source": [
        "5. > Follow the instructions in the code blocks\n",
        "\n",
        "\n",
        "\n"
      ],
      "metadata": {
        "id": "NdoSjVZ4Zbqg"
      }
    },
    {
      "cell_type": "code",
      "source": [
        "# Create list of countries in the world (total 7 countries) (Points : 5)\n",
        "\n",
        "countries=['Indonesia','Japan','China','France','Malaysia','Philiphine','Vietnam']\n",
        "countries"
      ],
      "metadata": {
        "id": "xsFxlZGLaQ7y",
        "colab": {
          "base_uri": "https://localhost:8080/"
        },
        "outputId": "fae9268c-c6fb-47a7-bd22-add79214a899"
      },
      "execution_count": null,
      "outputs": [
        {
          "output_type": "execute_result",
          "data": {
            "text/plain": [
              "('Indonesia', 'Japan', 'China', 'France', 'Malaysia', 'Philiphine', 'Vietnam')"
            ]
          },
          "metadata": {},
          "execution_count": 20
        }
      ]
    },
    {
      "cell_type": "code",
      "source": [
        "# Get 4 countries from the first index of the list (Points : 5)\n",
        "\n",
        "countries[0:4]"
      ],
      "metadata": {
        "id": "6Se125DabJ6R",
        "colab": {
          "base_uri": "https://localhost:8080/"
        },
        "outputId": "bf8958aa-2818-4c6c-c2fb-fbbefd3ad1e8"
      },
      "execution_count": null,
      "outputs": [
        {
          "output_type": "execute_result",
          "data": {
            "text/plain": [
              "('Indonesia', 'Japan', 'China', 'France')"
            ]
          },
          "metadata": {},
          "execution_count": 26
        }
      ]
    },
    {
      "cell_type": "code",
      "source": [
        "# Append new country to the list (Points : 5)\n",
        "\n",
        "countries.append(\"Thailand\")\n",
        "countries"
      ],
      "metadata": {
        "id": "FSU5QfExbKAh"
      },
      "execution_count": null,
      "outputs": []
    },
    {
      "cell_type": "code",
      "source": [
        "# Drop one country from the list (Points : 5)\n",
        "\n",
        "countries.remove(\"Thailand\")\n",
        "countries"
      ],
      "metadata": {
        "id": "DlvXbKlnbKGR",
        "colab": {
          "base_uri": "https://localhost:8080/"
        },
        "outputId": "da0a1441-93ca-447c-9c7a-bcdd64af6eb3"
      },
      "execution_count": null,
      "outputs": [
        {
          "output_type": "execute_result",
          "data": {
            "text/plain": [
              "['Indonesia', 'Japan', 'China', 'France', 'Malaysia', 'Philiphine', 'Vietnam']"
            ]
          },
          "metadata": {},
          "execution_count": 37
        }
      ]
    },
    {
      "cell_type": "code",
      "source": [
        "# Get country in the last index (Points : 5)\n",
        "\n",
        "countries[6]"
      ],
      "metadata": {
        "id": "F1NJ6JCQbKJ7",
        "colab": {
          "base_uri": "https://localhost:8080/",
          "height": 36
        },
        "outputId": "ba50a5d8-47a2-4be5-bee3-4b6bf707dcbe"
      },
      "execution_count": null,
      "outputs": [
        {
          "output_type": "execute_result",
          "data": {
            "text/plain": [
              "'Vietnam'"
            ],
            "application/vnd.google.colaboratory.intrinsic+json": {
              "type": "string"
            }
          },
          "metadata": {},
          "execution_count": 48
        }
      ]
    },
    {
      "cell_type": "markdown",
      "source": [
        "# Dictionary Data Operation"
      ],
      "metadata": {
        "id": "Kfkq-SmIdJR6"
      }
    },
    {
      "cell_type": "markdown",
      "source": [
        "6. >  Follow the instructions below\n",
        "\n",
        "\n",
        "\n"
      ],
      "metadata": {
        "id": "WyJ8CJzdeMiS"
      }
    },
    {
      "cell_type": "code",
      "source": [
        "# Given the dictionary below\n",
        "\n",
        "customer={\n",
        "    \"name\":['Dio','Eka','Wayu','Riki'],\n",
        "    \"age\":[20,19,24,39],\n",
        "    \"gender\":[1,0,0,1],\n",
        "    \"membership\":['Platinum','Gold','Silver','Silver']\n",
        "}"
      ],
      "metadata": {
        "id": "fVHYIKLwdMfq"
      },
      "execution_count": 1,
      "outputs": []
    },
    {
      "cell_type": "code",
      "source": [
        "# Print all keys in customer (Points : 5)\n",
        "\n",
        "dict.keys(customer)"
      ],
      "metadata": {
        "id": "LpRVtz4_eJK5",
        "colab": {
          "base_uri": "https://localhost:8080/"
        },
        "outputId": "1d25866b-5e77-4bbe-e1b7-70a15f0b46e7"
      },
      "execution_count": null,
      "outputs": [
        {
          "output_type": "execute_result",
          "data": {
            "text/plain": [
              "dict_keys(['name', 'age', 'gender', 'membership'])"
            ]
          },
          "metadata": {},
          "execution_count": 41
        }
      ]
    },
    {
      "cell_type": "code",
      "source": [
        "# Print all customer names (Points :  5 )\n",
        "\n",
        "customer[\"name\"]"
      ],
      "metadata": {
        "id": "QiEMM94FeYrz",
        "colab": {
          "base_uri": "https://localhost:8080/"
        },
        "outputId": "0c776fc4-28f1-421f-b532-7f4850aa2336"
      },
      "execution_count": null,
      "outputs": [
        {
          "output_type": "execute_result",
          "data": {
            "text/plain": [
              "['Dio', 'Eka', 'Wayu', 'Riki']"
            ]
          },
          "metadata": {},
          "execution_count": 14
        }
      ]
    },
    {
      "cell_type": "code",
      "source": [
        "# Print the first customer name (Points : 5)\n",
        "\n",
        "customer[\"name\"][0]"
      ],
      "metadata": {
        "id": "P2SeErUGgQ-D",
        "colab": {
          "base_uri": "https://localhost:8080/",
          "height": 36
        },
        "outputId": "6452787f-b734-4918-8be5-21b355266bf2"
      },
      "execution_count": null,
      "outputs": [
        {
          "output_type": "execute_result",
          "data": {
            "text/plain": [
              "'Dio'"
            ],
            "application/vnd.google.colaboratory.intrinsic+json": {
              "type": "string"
            }
          },
          "metadata": {},
          "execution_count": 15
        }
      ]
    },
    {
      "cell_type": "code",
      "source": [
        "# Drop \"age\" key from the dictionary (Points : 5)\n",
        "\n",
        "customer.pop('age')\n",
        "customer"
      ],
      "metadata": {
        "id": "c3PlmHxueiPy",
        "colab": {
          "base_uri": "https://localhost:8080/"
        },
        "outputId": "013e4982-0fd5-4eb1-e546-3dfa6889735d"
      },
      "execution_count": null,
      "outputs": [
        {
          "output_type": "execute_result",
          "data": {
            "text/plain": [
              "{'name': ['Dio', 'Eka', 'Wayu', 'Riki'],\n",
              " 'gender': [1, 0, 0, 1],\n",
              " 'membership': ['Platinum', 'Gold', 'Silver', 'Silver']}"
            ]
          },
          "metadata": {},
          "execution_count": 57
        }
      ]
    },
    {
      "cell_type": "code",
      "source": [
        "# Replace customer gender list value (Points : 20)\n",
        "# gender 1 => Male\n",
        "# gender 0 => Female \n",
        "\n",
        "\n",
        "customer['gender'][0]='Male'\n",
        "customer['gender'][3]='Male'\n",
        "customer['gender'][1]='Female'\n",
        "customer['gender'][2]='Male'\n",
        "customer"
      ],
      "metadata": {
        "id": "FgXDh9mIea9x",
        "colab": {
          "base_uri": "https://localhost:8080/"
        },
        "outputId": "a54fb428-e292-4f55-e006-1436889cc8ba"
      },
      "execution_count": 16,
      "outputs": [
        {
          "output_type": "execute_result",
          "data": {
            "text/plain": [
              "{'name': ['Dio', 'Eka', 'Wayu', 'Riki'],\n",
              " 'age': [20, 19, 24, 39],\n",
              " 'gender': ['Male', 'Female', 'Male', 'Male', 'a', 'l', 'e', 'Male', 'Male'],\n",
              " 'membership': ['Platinum', 'Gold', 'Silver', 'Silver']}"
            ]
          },
          "metadata": {},
          "execution_count": 16
        }
      ]
    }
  ]
}